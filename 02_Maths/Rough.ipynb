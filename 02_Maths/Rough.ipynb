{
 "cells": [
  {
   "cell_type": "code",
   "execution_count": 118,
   "metadata": {},
   "outputs": [
    {
     "data": {
      "text/html": [
       "<div>\n",
       "<style scoped>\n",
       "    .dataframe tbody tr th:only-of-type {\n",
       "        vertical-align: middle;\n",
       "    }\n",
       "\n",
       "    .dataframe tbody tr th {\n",
       "        vertical-align: top;\n",
       "    }\n",
       "\n",
       "    .dataframe thead th {\n",
       "        text-align: right;\n",
       "    }\n",
       "</style>\n",
       "<table border=\"1\" class=\"dataframe\">\n",
       "  <thead>\n",
       "    <tr style=\"text-align: right;\">\n",
       "      <th></th>\n",
       "      <th>area</th>\n",
       "      <th>bedrooms</th>\n",
       "      <th>price</th>\n",
       "    </tr>\n",
       "  </thead>\n",
       "  <tbody>\n",
       "    <tr>\n",
       "      <th>0</th>\n",
       "      <td>1056</td>\n",
       "      <td>2</td>\n",
       "      <td>39.07</td>\n",
       "    </tr>\n",
       "    <tr>\n",
       "      <th>1</th>\n",
       "      <td>2600</td>\n",
       "      <td>4</td>\n",
       "      <td>120.00</td>\n",
       "    </tr>\n",
       "    <tr>\n",
       "      <th>2</th>\n",
       "      <td>1440</td>\n",
       "      <td>3</td>\n",
       "      <td>62.00</td>\n",
       "    </tr>\n",
       "    <tr>\n",
       "      <th>3</th>\n",
       "      <td>1521</td>\n",
       "      <td>3</td>\n",
       "      <td>75.00</td>\n",
       "    </tr>\n",
       "    <tr>\n",
       "      <th>4</th>\n",
       "      <td>1200</td>\n",
       "      <td>2</td>\n",
       "      <td>51.00</td>\n",
       "    </tr>\n",
       "  </tbody>\n",
       "</table>\n",
       "</div>"
      ],
      "text/plain": [
       "   area  bedrooms   price\n",
       "0  1056         2   39.07\n",
       "1  2600         4  120.00\n",
       "2  1440         3   62.00\n",
       "3  1521         3   75.00\n",
       "4  1200         2   51.00"
      ]
     },
     "execution_count": 118,
     "metadata": {},
     "output_type": "execute_result"
    }
   ],
   "source": [
    "import pandas as pd\n",
    "import numpy as np\n",
    "from matplotlib import pyplot as plt\n",
    "%matplotlib inline\n",
    "df = pd.read_csv('homeprice_banglore.csv')\n",
    "df.head(5)"
   ]
  },
  {
   "cell_type": "code",
   "execution_count": 119,
   "metadata": {},
   "outputs": [],
   "source": [
    "from sklearn import preprocessing\n",
    "\n",
    "sx = preprocessing.MinMaxScaler()\n",
    "sy = preprocessing.MinMaxScaler()\n",
    "\n",
    "# scaled_x = sx.fit_transform(df.drop('price', axis=1))\n",
    "\n",
    "# scaled_x[:5]"
   ]
  },
  {
   "cell_type": "code",
   "execution_count": 120,
   "metadata": {},
   "outputs": [
    {
     "data": {
      "text/plain": [
       "0      39.07\n",
       "1     120.00\n",
       "2      62.00\n",
       "3      75.00\n",
       "4      51.00\n",
       "5      38.00\n",
       "6     135.00\n",
       "7     155.00\n",
       "8      50.00\n",
       "9     167.00\n",
       "10     82.00\n",
       "11    140.00\n",
       "12     38.00\n",
       "13     40.00\n",
       "14    101.00\n",
       "15     42.00\n",
       "16     48.00\n",
       "17     60.00\n",
       "18    102.00\n",
       "19     32.00\n",
       "Name: price, dtype: float64"
      ]
     },
     "execution_count": 120,
     "metadata": {},
     "output_type": "execute_result"
    }
   ],
   "source": [
    "df['price']"
   ]
  },
  {
   "cell_type": "code",
   "execution_count": 121,
   "metadata": {},
   "outputs": [
    {
     "data": {
      "text/plain": [
       "array([[0.05237037],\n",
       "       [0.65185185],\n",
       "       [0.22222222],\n",
       "       [0.31851852],\n",
       "       [0.14074074]])"
      ]
     },
     "execution_count": 121,
     "metadata": {},
     "output_type": "execute_result"
    }
   ],
   "source": [
    "scaled_y = sy.fit_transform(df[['price']].values.reshape(df.shape[0], 1))\n",
    "scaled_y[:5]\n",
    "# scaled_y = sy.fit_transform(df[['price']])\n",
    "# scaled_y[:5]"
   ]
  },
  {
   "cell_type": "code",
   "execution_count": 122,
   "metadata": {},
   "outputs": [
    {
     "data": {
      "text/plain": [
       "array([0.05237037, 0.65185185, 0.22222222, 0.31851852, 0.14074074,\n",
       "       0.04444444, 0.76296296, 0.91111111, 0.13333333, 1.        ,\n",
       "       0.37037037, 0.8       , 0.04444444, 0.05925926, 0.51111111,\n",
       "       0.07407407, 0.11851852, 0.20740741, 0.51851852, 0.        ])"
      ]
     },
     "execution_count": 122,
     "metadata": {},
     "output_type": "execute_result"
    }
   ],
   "source": [
    "scaled_y.reshape(scaled_y.shape[0],)"
   ]
  },
  {
   "cell_type": "code",
   "execution_count": 123,
   "metadata": {},
   "outputs": [],
   "source": [
    "# scaled_y.reshape(scaled_y.shape[0],)\n",
    "scaled_x = df.drop('price', axis=1)\n",
    "y = df['price']"
   ]
  },
  {
   "cell_type": "code",
   "execution_count": 124,
   "metadata": {},
   "outputs": [
    {
     "data": {
      "text/html": [
       "<div>\n",
       "<style scoped>\n",
       "    .dataframe tbody tr th:only-of-type {\n",
       "        vertical-align: middle;\n",
       "    }\n",
       "\n",
       "    .dataframe tbody tr th {\n",
       "        vertical-align: top;\n",
       "    }\n",
       "\n",
       "    .dataframe thead th {\n",
       "        text-align: right;\n",
       "    }\n",
       "</style>\n",
       "<table border=\"1\" class=\"dataframe\">\n",
       "  <thead>\n",
       "    <tr style=\"text-align: right;\">\n",
       "      <th></th>\n",
       "      <th>area</th>\n",
       "      <th>bedrooms</th>\n",
       "    </tr>\n",
       "  </thead>\n",
       "  <tbody>\n",
       "    <tr>\n",
       "      <th>0</th>\n",
       "      <td>1056</td>\n",
       "      <td>2</td>\n",
       "    </tr>\n",
       "    <tr>\n",
       "      <th>1</th>\n",
       "      <td>2600</td>\n",
       "      <td>4</td>\n",
       "    </tr>\n",
       "    <tr>\n",
       "      <th>2</th>\n",
       "      <td>1440</td>\n",
       "      <td>3</td>\n",
       "    </tr>\n",
       "    <tr>\n",
       "      <th>3</th>\n",
       "      <td>1521</td>\n",
       "      <td>3</td>\n",
       "    </tr>\n",
       "    <tr>\n",
       "      <th>4</th>\n",
       "      <td>1200</td>\n",
       "      <td>2</td>\n",
       "    </tr>\n",
       "    <tr>\n",
       "      <th>5</th>\n",
       "      <td>1170</td>\n",
       "      <td>2</td>\n",
       "    </tr>\n",
       "    <tr>\n",
       "      <th>6</th>\n",
       "      <td>2732</td>\n",
       "      <td>4</td>\n",
       "    </tr>\n",
       "    <tr>\n",
       "      <th>7</th>\n",
       "      <td>3300</td>\n",
       "      <td>4</td>\n",
       "    </tr>\n",
       "    <tr>\n",
       "      <th>8</th>\n",
       "      <td>1310</td>\n",
       "      <td>3</td>\n",
       "    </tr>\n",
       "    <tr>\n",
       "      <th>9</th>\n",
       "      <td>3700</td>\n",
       "      <td>5</td>\n",
       "    </tr>\n",
       "    <tr>\n",
       "      <th>10</th>\n",
       "      <td>1800</td>\n",
       "      <td>3</td>\n",
       "    </tr>\n",
       "    <tr>\n",
       "      <th>11</th>\n",
       "      <td>2785</td>\n",
       "      <td>4</td>\n",
       "    </tr>\n",
       "    <tr>\n",
       "      <th>12</th>\n",
       "      <td>1000</td>\n",
       "      <td>2</td>\n",
       "    </tr>\n",
       "    <tr>\n",
       "      <th>13</th>\n",
       "      <td>1100</td>\n",
       "      <td>2</td>\n",
       "    </tr>\n",
       "    <tr>\n",
       "      <th>14</th>\n",
       "      <td>2250</td>\n",
       "      <td>3</td>\n",
       "    </tr>\n",
       "    <tr>\n",
       "      <th>15</th>\n",
       "      <td>1175</td>\n",
       "      <td>2</td>\n",
       "    </tr>\n",
       "    <tr>\n",
       "      <th>16</th>\n",
       "      <td>1180</td>\n",
       "      <td>3</td>\n",
       "    </tr>\n",
       "    <tr>\n",
       "      <th>17</th>\n",
       "      <td>1540</td>\n",
       "      <td>3</td>\n",
       "    </tr>\n",
       "    <tr>\n",
       "      <th>18</th>\n",
       "      <td>2770</td>\n",
       "      <td>3</td>\n",
       "    </tr>\n",
       "    <tr>\n",
       "      <th>19</th>\n",
       "      <td>800</td>\n",
       "      <td>1</td>\n",
       "    </tr>\n",
       "  </tbody>\n",
       "</table>\n",
       "</div>"
      ],
      "text/plain": [
       "    area  bedrooms\n",
       "0   1056         2\n",
       "1   2600         4\n",
       "2   1440         3\n",
       "3   1521         3\n",
       "4   1200         2\n",
       "5   1170         2\n",
       "6   2732         4\n",
       "7   3300         4\n",
       "8   1310         3\n",
       "9   3700         5\n",
       "10  1800         3\n",
       "11  2785         4\n",
       "12  1000         2\n",
       "13  1100         2\n",
       "14  2250         3\n",
       "15  1175         2\n",
       "16  1180         3\n",
       "17  1540         3\n",
       "18  2770         3\n",
       "19   800         1"
      ]
     },
     "execution_count": 124,
     "metadata": {},
     "output_type": "execute_result"
    }
   ],
   "source": [
    "scaled_x"
   ]
  },
  {
   "cell_type": "code",
   "execution_count": 125,
   "metadata": {},
   "outputs": [
    {
     "data": {
      "text/html": [
       "<div>\n",
       "<style scoped>\n",
       "    .dataframe tbody tr th:only-of-type {\n",
       "        vertical-align: middle;\n",
       "    }\n",
       "\n",
       "    .dataframe tbody tr th {\n",
       "        vertical-align: top;\n",
       "    }\n",
       "\n",
       "    .dataframe thead th {\n",
       "        text-align: right;\n",
       "    }\n",
       "</style>\n",
       "<table border=\"1\" class=\"dataframe\">\n",
       "  <thead>\n",
       "    <tr style=\"text-align: right;\">\n",
       "      <th></th>\n",
       "      <th>0</th>\n",
       "      <th>1</th>\n",
       "      <th>2</th>\n",
       "      <th>3</th>\n",
       "      <th>4</th>\n",
       "      <th>5</th>\n",
       "      <th>6</th>\n",
       "      <th>7</th>\n",
       "      <th>8</th>\n",
       "      <th>9</th>\n",
       "      <th>10</th>\n",
       "      <th>11</th>\n",
       "      <th>12</th>\n",
       "      <th>13</th>\n",
       "      <th>14</th>\n",
       "      <th>15</th>\n",
       "      <th>16</th>\n",
       "      <th>17</th>\n",
       "      <th>18</th>\n",
       "      <th>19</th>\n",
       "    </tr>\n",
       "  </thead>\n",
       "  <tbody>\n",
       "    <tr>\n",
       "      <th>area</th>\n",
       "      <td>1056</td>\n",
       "      <td>2600</td>\n",
       "      <td>1440</td>\n",
       "      <td>1521</td>\n",
       "      <td>1200</td>\n",
       "      <td>1170</td>\n",
       "      <td>2732</td>\n",
       "      <td>3300</td>\n",
       "      <td>1310</td>\n",
       "      <td>3700</td>\n",
       "      <td>1800</td>\n",
       "      <td>2785</td>\n",
       "      <td>1000</td>\n",
       "      <td>1100</td>\n",
       "      <td>2250</td>\n",
       "      <td>1175</td>\n",
       "      <td>1180</td>\n",
       "      <td>1540</td>\n",
       "      <td>2770</td>\n",
       "      <td>800</td>\n",
       "    </tr>\n",
       "    <tr>\n",
       "      <th>bedrooms</th>\n",
       "      <td>2</td>\n",
       "      <td>4</td>\n",
       "      <td>3</td>\n",
       "      <td>3</td>\n",
       "      <td>2</td>\n",
       "      <td>2</td>\n",
       "      <td>4</td>\n",
       "      <td>4</td>\n",
       "      <td>3</td>\n",
       "      <td>5</td>\n",
       "      <td>3</td>\n",
       "      <td>4</td>\n",
       "      <td>2</td>\n",
       "      <td>2</td>\n",
       "      <td>3</td>\n",
       "      <td>2</td>\n",
       "      <td>3</td>\n",
       "      <td>3</td>\n",
       "      <td>3</td>\n",
       "      <td>1</td>\n",
       "    </tr>\n",
       "  </tbody>\n",
       "</table>\n",
       "</div>"
      ],
      "text/plain": [
       "            0     1     2     3     4     5     6     7     8     9     10  \\\n",
       "area      1056  2600  1440  1521  1200  1170  2732  3300  1310  3700  1800   \n",
       "bedrooms     2     4     3     3     2     2     4     4     3     5     3   \n",
       "\n",
       "            11    12    13    14    15    16    17    18   19  \n",
       "area      2785  1000  1100  2250  1175  1180  1540  2770  800  \n",
       "bedrooms     4     2     2     3     2     3     3     3    1  "
      ]
     },
     "execution_count": 125,
     "metadata": {},
     "output_type": "execute_result"
    }
   ],
   "source": [
    "scaled_x.T"
   ]
  },
  {
   "cell_type": "code",
   "execution_count": 126,
   "metadata": {},
   "outputs": [
    {
     "data": {
      "text/plain": [
       "(2, 20)"
      ]
     },
     "execution_count": 126,
     "metadata": {},
     "output_type": "execute_result"
    }
   ],
   "source": [
    "scaled_x.T.shape"
   ]
  },
  {
   "cell_type": "code",
   "execution_count": 127,
   "metadata": {},
   "outputs": [
    {
     "data": {
      "text/plain": [
       "(2,)"
      ]
     },
     "execution_count": 127,
     "metadata": {},
     "output_type": "execute_result"
    }
   ],
   "source": [
    "w = np.ones(shape=(scaled_x.shape[1]))\n",
    "w.shape"
   ]
  },
  {
   "cell_type": "code",
   "execution_count": 128,
   "metadata": {},
   "outputs": [
    {
     "data": {
      "text/plain": [
       "array([1060.2, 2606.2, 1445.2, 1526.2, 1204.2, 1174.2, 2738.2, 3306.2,\n",
       "       1315.2, 3707.2, 1805.2, 2791.2, 1004.2, 1104.2, 2255.2, 1179.2,\n",
       "       1185.2, 1545.2, 2775.2,  803.2])"
      ]
     },
     "execution_count": 128,
     "metadata": {},
     "output_type": "execute_result"
    }
   ],
   "source": [
    "p = np.dot(w, scaled_x.T)+2.2\n",
    "p"
   ]
  },
  {
   "cell_type": "code",
   "execution_count": null,
   "metadata": {},
   "outputs": [],
   "source": [
    "\n",
    "      \n",
    "      "
   ]
  },
  {
   "cell_type": "code",
   "execution_count": 129,
   "metadata": {},
   "outputs": [
    {
     "data": {
      "text/plain": [
       "(20,)"
      ]
     },
     "execution_count": 129,
     "metadata": {},
     "output_type": "execute_result"
    }
   ],
   "source": [
    "p.shape"
   ]
  },
  {
   "cell_type": "code",
   "execution_count": 130,
   "metadata": {},
   "outputs": [
    {
     "data": {
      "text/plain": [
       "area        80757197.8\n",
       "bedrooms      120116.6\n",
       "dtype: float64"
      ]
     },
     "execution_count": 130,
     "metadata": {},
     "output_type": "execute_result"
    }
   ],
   "source": [
    "scaled_x.T.dot(p)"
   ]
  },
  {
   "cell_type": "code",
   "execution_count": 131,
   "metadata": {},
   "outputs": [
    {
     "data": {
      "text/plain": [
       "array([80757197.8,   120116.6])"
      ]
     },
     "execution_count": 131,
     "metadata": {},
     "output_type": "execute_result"
    }
   ],
   "source": [
    "np.dot(scaled_x.T, p)"
   ]
  },
  {
   "cell_type": "markdown",
   "metadata": {},
   "source": [
    "---\n"
   ]
  },
  {
   "cell_type": "code",
   "execution_count": 132,
   "metadata": {},
   "outputs": [],
   "source": [
    "import numpy as np\n",
    "import tensorflow as tf\n",
    "from tensorflow import keras\n",
    "import pandas as pd\n",
    "from matplotlib import pyplot as plt\n",
    "%matplotlib inline"
   ]
  },
  {
   "cell_type": "code",
   "execution_count": 133,
   "metadata": {},
   "outputs": [
    {
     "data": {
      "text/html": [
       "<div>\n",
       "<style scoped>\n",
       "    .dataframe tbody tr th:only-of-type {\n",
       "        vertical-align: middle;\n",
       "    }\n",
       "\n",
       "    .dataframe tbody tr th {\n",
       "        vertical-align: top;\n",
       "    }\n",
       "\n",
       "    .dataframe thead th {\n",
       "        text-align: right;\n",
       "    }\n",
       "</style>\n",
       "<table border=\"1\" class=\"dataframe\">\n",
       "  <thead>\n",
       "    <tr style=\"text-align: right;\">\n",
       "      <th></th>\n",
       "      <th>age</th>\n",
       "      <th>affordibility</th>\n",
       "      <th>bought_insurance</th>\n",
       "    </tr>\n",
       "  </thead>\n",
       "  <tbody>\n",
       "    <tr>\n",
       "      <th>0</th>\n",
       "      <td>22</td>\n",
       "      <td>1</td>\n",
       "      <td>0</td>\n",
       "    </tr>\n",
       "    <tr>\n",
       "      <th>1</th>\n",
       "      <td>25</td>\n",
       "      <td>0</td>\n",
       "      <td>0</td>\n",
       "    </tr>\n",
       "    <tr>\n",
       "      <th>2</th>\n",
       "      <td>47</td>\n",
       "      <td>1</td>\n",
       "      <td>1</td>\n",
       "    </tr>\n",
       "    <tr>\n",
       "      <th>3</th>\n",
       "      <td>52</td>\n",
       "      <td>0</td>\n",
       "      <td>0</td>\n",
       "    </tr>\n",
       "    <tr>\n",
       "      <th>4</th>\n",
       "      <td>46</td>\n",
       "      <td>1</td>\n",
       "      <td>1</td>\n",
       "    </tr>\n",
       "  </tbody>\n",
       "</table>\n",
       "</div>"
      ],
      "text/plain": [
       "   age  affordibility  bought_insurance\n",
       "0   22              1                 0\n",
       "1   25              0                 0\n",
       "2   47              1                 1\n",
       "3   52              0                 0\n",
       "4   46              1                 1"
      ]
     },
     "execution_count": 133,
     "metadata": {},
     "output_type": "execute_result"
    }
   ],
   "source": [
    "df = pd.read_csv(\"insurace_data.csv\")\n",
    "df.head()"
   ]
  },
  {
   "cell_type": "code",
   "execution_count": 134,
   "metadata": {},
   "outputs": [],
   "source": [
    "from sklearn.model_selection import train_test_split\n",
    "\n",
    "X_train, X_test, y_train, y_test = train_test_split(\n",
    "    df[['age', 'affordibility']], df['bought_insurance'], test_size=0.2, random_state=25)"
   ]
  },
  {
   "cell_type": "code",
   "execution_count": 135,
   "metadata": {},
   "outputs": [],
   "source": [
    "X_train_scaled = X_train.copy()\n",
    "X_train_scaled['age'] = X_train_scaled['age'] / 100\n",
    "\n",
    "X_test_scaled = X_test.copy()\n",
    "X_test_scaled['age'] = X_test_scaled['age'] / 100"
   ]
  },
  {
   "cell_type": "code",
   "execution_count": null,
   "metadata": {},
   "outputs": [],
   "source": [
    "def log_loss(y_true, y_pred):\n",
    "    # Small epsilon to avoid log(0)\n",
    "    epsilon = 1e-15\n",
    "\n",
    "    # Step 1: Clip y_pred values to avoid log(0) issues\n",
    "    y_pred = np.clip(y_pred, epsilon, 1 - epsilon)\n",
    "    print(\"Clipped y_pred:\", y_pred)\n",
    "\n",
    "    # Step 2: Calculate log(y_pred) and log(1 - y_pred)\n",
    "    log_y_pred = np.log(y_pred)\n",
    "    log_one_minus_y_pred = np.log(1 - y_pred)\n",
    "    print(\"log(y_pred):\", log_y_pred)\n",
    "    print(\"log(1 - y_pred):\", log_one_minus_y_pred)\n",
    "\n",
    "    # Step 3: Calculate y_true * log(y_pred)\n",
    "    term1 = y_true * log_y_pred \n",
    "    print(\"y_true * log(y_pred):\", term1)\n",
    "\n",
    "    # Step 4: Calculate (1 - y_true) * log(1 - y_pred)\n",
    "    term2 = (1 - y_true) * log_one_minus_y_pred\n",
    "    print(\"(1 - y_true) * log(1 - y_pred):\", term2)\n",
    "\n",
    "    # Step 5: Combine terms and calculate mean\n",
    "    log_loss_value = -np.mean(term1 + term2)\n",
    "    print(\"Log Loss Value:\", log_loss_value)\n",
    "\n",
    "    return log_loss_value"
   ]
  },
  {
   "cell_type": "code",
   "execution_count": 137,
   "metadata": {},
   "outputs": [],
   "source": [
    "def sigmoid_numpy(X):\n",
    "    return 1 / (1 + np.exp(-X))"
   ]
  },
  {
   "cell_type": "markdown",
   "metadata": {},
   "source": [
    "0 0.577713\n",
    "13 0.395549\n",
    "6 0.456622\n",
    "17 0.659188\n",
    "24 0.641694\n",
    "19 0.568299\n",
    "25 0.650492\n",
    "16 0.386388\n",
    "20 0.575365\n",
    "3 0.449471\n",
    "7 0.468578\n",
    "1 0.386388\n",
    "5 0.654853\n",
    "27 0.632800\n",
    "8 0.667778\n",
    "18 0.372797\n",
    "12 0.390959\n",
    "23 0.630562\n",
    "22 0.619290\n",
    "15 0.652675\n",
    "26 0.580058\n",
    "4 0.632800\n",
    "dtype: float64\n"
   ]
  },
  {
   "cell_type": "code",
   "execution_count": 138,
   "metadata": {},
   "outputs": [],
   "source": [
    "class myNeuralNetwork:\n",
    "    def __init__(self):\n",
    "        self.w1 = 1\n",
    "        self.w2 = 1\n",
    "        self.bias = 0\n",
    "\n",
    "    def fit(self, X, y, epochs, loss_threshold):\n",
    "        self.w1, self.w2, self.bias = self.gradient_descent(X['age'], X['affordibility'], y, epochs, loss_threshold)\n",
    "\n",
    "    def predict(self, X_test):\n",
    "        weighted_sum = self.w1 * X_test['age'] + self.w2 * X_test['affordibility'] + self.bias\n",
    "        return sigmoid_numpy(weighted_sum)\n",
    "\n",
    "    def gradient_descent(self, age, affordibility, y_true, epochs, loss_threshold):\n",
    "        w1 = w2 = 1\n",
    "        bias = 0\n",
    "        rate = 0.5\n",
    "        n = len(X_train)\n",
    "        for i in range(epochs):\n",
    "            weighted_sum = w1 * age + w2 * affordibility + bias\n",
    "            y_predicted = sigmoid_numpy(weighted_sum)\n",
    "\n",
    "            loss = log_loss(y_true, y_predicted)\n",
    "\n",
    "            w1d = (1 / n) * np.dot(np.transpose(age), (y_predicted - y_true))\n",
    "            w2d = (1 / n) * np.dot(np.transpose(affordibility), (y_predicted - y_true))\n",
    "\n",
    "            bias_d = np.mean(y_predicted - y_true)\n",
    "            w1 = w1 - rate * w1d\n",
    "            w2 = w2 - rate * w2d\n",
    "            bias = bias - rate * bias_d\n",
    "\n",
    "            if i % 50 == 0:\n",
    "                print(f'Epoch:{i}, w1:{w1}, w2:{w2}, bias:{bias}, loss:{loss}')\n",
    "\n",
    "            if loss <= loss_threshold:\n",
    "                print(f'Epoch:{i}, w1:{w1}, w2:{w2}, bias:{bias}, loss:{loss}')\n",
    "                break\n",
    "        return w1, w2, bias"
   ]
  },
  {
   "cell_type": "code",
   "execution_count": null,
   "metadata": {},
   "outputs": [
    {
     "name": "stdout",
     "output_type": "stream",
     "text": [
      "Clipped y_pred: 0     0.772064\n",
      "13    0.571996\n",
      "6     0.634136\n",
      "17    0.829205\n",
      "24    0.817574\n",
      "19    0.764948\n",
      "25    0.823465\n",
      "16    0.562177\n",
      "20    0.770299\n",
      "3     0.627148\n",
      "7     0.645656\n",
      "1     0.562177\n",
      "5     0.826353\n",
      "27    0.811533\n",
      "8     0.834795\n",
      "18    0.547358\n",
      "12    0.567093\n",
      "23    0.809998\n",
      "22    0.802184\n",
      "15    0.824914\n",
      "26    0.773819\n",
      "4     0.811533\n",
      "dtype: float64\n",
      "log(y_pred): 0    -0.258688\n",
      "13   -0.558623\n",
      "6    -0.455492\n",
      "17   -0.187288\n",
      "24   -0.201413\n",
      "19   -0.267948\n",
      "25   -0.194235\n",
      "16   -0.575939\n",
      "20   -0.260977\n",
      "3    -0.466573\n",
      "7    -0.437488\n",
      "1    -0.575939\n",
      "5    -0.190733\n",
      "27   -0.208831\n",
      "8    -0.180569\n",
      "18   -0.602653\n",
      "12   -0.567232\n",
      "23   -0.210723\n",
      "22   -0.220417\n",
      "15   -0.192476\n",
      "26   -0.256418\n",
      "4    -0.208831\n",
      "dtype: float64\n",
      "log(1 - y_pred): 0    -1.478688\n",
      "13   -0.848623\n",
      "6    -1.005492\n",
      "17   -1.767288\n",
      "24   -1.701413\n",
      "19   -1.447948\n",
      "25   -1.734235\n",
      "16   -0.825939\n",
      "20   -1.470977\n",
      "3    -0.986573\n",
      "7    -1.037488\n",
      "1    -0.825939\n",
      "5    -1.750733\n",
      "27   -1.668831\n",
      "8    -1.800569\n",
      "18   -0.792653\n",
      "12   -0.837232\n",
      "23   -1.660723\n",
      "22   -1.620417\n",
      "15   -1.742476\n",
      "26   -1.486418\n",
      "4    -1.668831\n",
      "dtype: float64\n",
      "y_true * log(y_pred): 0    -0.000000\n",
      "13   -0.000000\n",
      "6    -0.000000\n",
      "17   -0.187288\n",
      "24   -0.201413\n",
      "19   -0.000000\n",
      "25   -0.194235\n",
      "16   -0.575939\n",
      "20   -0.000000\n",
      "3    -0.000000\n",
      "7    -0.437488\n",
      "1    -0.000000\n",
      "5    -0.190733\n",
      "27   -0.000000\n",
      "8    -0.180569\n",
      "18   -0.000000\n",
      "12   -0.000000\n",
      "23   -0.210723\n",
      "22   -0.220417\n",
      "15   -0.192476\n",
      "26   -0.000000\n",
      "4    -0.208831\n",
      "dtype: float64\n",
      "(1 - y_true) * log(1 - y_pred): 0    -1.478688\n",
      "13   -0.848623\n",
      "6    -1.005492\n",
      "17   -0.000000\n",
      "24   -0.000000\n",
      "19   -1.447948\n",
      "25   -0.000000\n",
      "16   -0.000000\n",
      "20   -1.470977\n",
      "3    -0.986573\n",
      "7    -0.000000\n",
      "1    -0.825939\n",
      "5    -0.000000\n",
      "27   -1.668831\n",
      "8    -0.000000\n",
      "18   -0.792653\n",
      "12   -0.837232\n",
      "23   -0.000000\n",
      "22   -0.000000\n",
      "15   -0.000000\n",
      "26   -1.486418\n",
      "4    -0.000000\n",
      "dtype: float64\n"
     ]
    },
    {
     "name": "stderr",
     "output_type": "stream",
     "text": [
      "Traceback (most recent call last):\n",
      "  File \"c:\\Users\\91630\\.conda\\envs\\ml_env\\lib\\site-packages\\debugpy\\_vendored\\pydevd\\_pydevd_bundle\\pydevd_vars.py\", line 622, in change_attr_expression\n",
      "    value = eval(expression, frame.f_globals, frame.f_locals)\n",
      "  File \"<string>\", line 1\n",
      "    0     0.77206413    0.5719966     0.63413617    0.82920524    0.81757419    0.76494825    0.82346516    0.56217720    0.7702993     0.6271487     0.6456561     0.5621775     0.82635327    0.8115338     0.83479518    0.54735812    0.56709323    0.80999822    0.80218415    0.82491426    0.7738194     0.811533dtype: float64\n",
      "          ^\n",
      "SyntaxError: invalid syntax\n"
     ]
    }
   ],
   "source": [
    "customModel = myNeuralNetwork()\n",
    "customModel.fit(X_train_scaled, y_train, 1000, 0.4631)"
   ]
  },
  {
   "cell_type": "code",
   "execution_count": 140,
   "metadata": {},
   "outputs": [
    {
     "data": {
      "text/plain": [
       "2     0.705020\n",
       "10    0.355836\n",
       "21    0.161599\n",
       "11    0.477919\n",
       "14    0.725586\n",
       "9     0.828987\n",
       "dtype: float64"
      ]
     },
     "execution_count": 140,
     "metadata": {},
     "output_type": "execute_result"
    }
   ],
   "source": [
    "customModel.predict(X_test_scaled)"
   ]
  }
 ],
 "metadata": {
  "kernelspec": {
   "display_name": "ml_env",
   "language": "python",
   "name": "python3"
  },
  "language_info": {
   "codemirror_mode": {
    "name": "ipython",
    "version": 3
   },
   "file_extension": ".py",
   "mimetype": "text/x-python",
   "name": "python",
   "nbconvert_exporter": "python",
   "pygments_lexer": "ipython3",
   "version": "3.9.15"
  }
 },
 "nbformat": 4,
 "nbformat_minor": 2
}
